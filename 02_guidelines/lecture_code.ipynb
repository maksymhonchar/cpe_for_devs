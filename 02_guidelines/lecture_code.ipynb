{
 "cells": [
  {
   "attachments": {},
   "cell_type": "markdown",
   "metadata": {},
   "source": [
    "# Setup environment"
   ]
  },
  {
   "cell_type": "code",
   "execution_count": 1,
   "metadata": {},
   "outputs": [],
   "source": [
    "import datetime\n",
    "from dotenv import load_dotenv, find_dotenv\n",
    "import os\n",
    "from typing import List, Dict, Any"
   ]
  },
  {
   "cell_type": "code",
   "execution_count": 2,
   "metadata": {},
   "outputs": [],
   "source": [
    "# https://pypi.org/project/openai/\n",
    "import openai\n",
    "from openai.openai_object import OpenAIObject"
   ]
  },
  {
   "cell_type": "code",
   "execution_count": 3,
   "metadata": {},
   "outputs": [],
   "source": [
    "_ = load_dotenv(find_dotenv())\n",
    "\n",
    "openai.api_key = os.getenv('OPENAI_API_KEY', 'MISSING_OPENAI_API_KEY')"
   ]
  },
  {
   "attachments": {},
   "cell_type": "markdown",
   "metadata": {},
   "source": [
    "# Prompt LLM"
   ]
  },
  {
   "attachments": {},
   "cell_type": "markdown",
   "metadata": {},
   "source": [
    "## Create helpers"
   ]
  },
  {
   "cell_type": "code",
   "execution_count": 4,
   "metadata": {},
   "outputs": [],
   "source": [
    "def get_completion(prompt: str, model: str, temperature: float, n_completions: int) -> str:\n",
    "    messages: List[Dict[str, Any]] = [\n",
    "        {\n",
    "            \"role\": \"user\",\n",
    "            \"content\": prompt\n",
    "        }\n",
    "    ]\n",
    "    try:\n",
    "        response: OpenAIObject = openai.ChatCompletion.create(\n",
    "            messages=messages,\n",
    "            model=model,\n",
    "            temperature=temperature,\n",
    "            n=n_completions\n",
    "        ) \n",
    "    except Exception as e:\n",
    "        return f\"Error: {e}\"\n",
    "\n",
    "    if not response.choices:\n",
    "        return \"Error: No completions returned\"\n",
    "\n",
    "    return response.choices[0].message.content"
   ]
  },
  {
   "attachments": {},
   "cell_type": "markdown",
   "metadata": {},
   "source": [
    "## Set prompting params"
   ]
  },
  {
   "cell_type": "code",
   "execution_count": 5,
   "metadata": {},
   "outputs": [],
   "source": [
    "# https://platform.openai.com/docs/models/model-endpoint-compatibility\n",
    "completion_model = 'gpt-3.5-turbo'"
   ]
  },
  {
   "cell_type": "code",
   "execution_count": 6,
   "metadata": {},
   "outputs": [],
   "source": [
    "# https://platform.openai.com/docs/api-reference/completions/create#completions/create-temperature\n",
    "temperature = 0.01"
   ]
  },
  {
   "cell_type": "code",
   "execution_count": 7,
   "metadata": {},
   "outputs": [],
   "source": [
    "# https://platform.openai.com/docs/api-reference/completions/create#completions/create-n\n",
    "n_completions = 1"
   ]
  },
  {
   "cell_type": "code",
   "execution_count": 8,
   "metadata": {},
   "outputs": [],
   "source": [
    "prompting_params: Dict[str, Any] = {\n",
    "    \"model\": completion_model,\n",
    "    \"temperature\": temperature,\n",
    "    \"n_completions\": n_completions\n",
    "}"
   ]
  },
  {
   "cell_type": "markdown",
   "metadata": {},
   "source": [
    "## Start prompting"
   ]
  },
  {
   "attachments": {},
   "cell_type": "markdown",
   "metadata": {},
   "source": [
    "### Prompting Principle 1: Write clear and specific instructions\n",
    "\n",
    "Tactics in the principle:\n",
    "1. Use delimiters to clearly indicate distinct parts of the input\n",
    "2. Ask for a structured output\n",
    "3. Ask the model to check whether conditions are satisfied\n",
    "4. \"Few-shot\" prompting"
   ]
  },
  {
   "attachments": {},
   "cell_type": "markdown",
   "metadata": {},
   "source": [
    "#### Tactic 1: Use delimiters to clearly indicate distinct parts of the input\n",
    "- Delimiters can be anything like: ```, \"\"\", < >, `<tag> </tag>`, `:`"
   ]
  },
  {
   "cell_type": "code",
   "execution_count": 24,
   "metadata": {},
   "outputs": [
    {
     "name": "stdout",
     "output_type": "stream",
     "text": [
      "Prom.ua - український маркетплейс, на якому підприємці можуть створювати інтернет-магазини та розміщувати свої товари, а покупці можуть знайти більше 100 мільйонів товарів, що призвело до витрат українців на маркетплейсі 8,6 млрд грн у 2018 році, а також до оформлення щомісяця близько 1,5 млн замовлень на суму близько 1,3 млрд грн.\n"
     ]
    }
   ],
   "source": [
    "text = f\"\"\"\n",
    "Prom.ua — український маркетплейс, проєкт IT-компанії EVO.\n",
    "На його платформі підприємці[1] самостійно створюють інтернет-магазини і / або розміщують свої товари в загальному каталозі.\n",
    "Для покупців на Промі зібрано більше 100 мільйонів товарів.\n",
    "В 2018 році українці витратили на маркетплейсі 8,6 млрд грн — і ще 10,5 млрд грн на сайтах компаній, створених на базі Prom.ua[3].\n",
    "Щодня торговельний майданчик відвідує близько 2 млн користувачів.\n",
    "У ТОП-10 популярних категорій входять одяг, взуття, аксесуари, товари для дому та саду, краси та здоров'я, а також техніка й електроніка[4].\n",
    "Щомісяця на маркетплейсі покупці оформлюють у середньому 1,5 млн замовлень на суму близько 1,3 млрд грн[5].\n",
    "\"\"\"\n",
    "prompt = f\"\"\"\n",
    "Summarize the text delimited by triple backticks into a single sentence.\n",
    "The summarized text must be written in Ukrainian.\n",
    "\n",
    "```{text}```\n",
    "\"\"\"\n",
    "response = get_completion(prompt, **prompting_params)\n",
    "print(response)"
   ]
  },
  {
   "attachments": {},
   "cell_type": "markdown",
   "metadata": {},
   "source": [
    "#### Tactic 2: Ask for a structured output\n",
    "- use JSON, HTML"
   ]
  },
  {
   "cell_type": "code",
   "execution_count": 23,
   "metadata": {},
   "outputs": [
    {
     "name": "stdout",
     "output_type": "stream",
     "text": [
      "[\n",
      "  {\n",
      "    \"business_id\": 1,\n",
      "    \"name\": \"Rozetka\",\n",
      "    \"users\": 10,000,000,\n",
      "    \"user_rating\": 4.5,\n",
      "    \"free_delivery\": true,\n",
      "    \"has_android_app\": true,\n",
      "    \"has_ios_app\": true\n",
      "  },\n",
      "  {\n",
      "    \"business_id\": 2,\n",
      "    \"name\": \"Prom.ua\",\n",
      "    \"users\": 5,000,000,\n",
      "    \"user_rating\": 4.2,\n",
      "    \"free_delivery\": false,\n",
      "    \"has_android_app\": true,\n",
      "    \"has_ios_app\": true\n",
      "  },\n",
      "  {\n",
      "    \"business_id\": 3,\n",
      "    \"name\": \"Epicentrk\",\n",
      "    \"users\": 3,000,000,\n",
      "    \"user_rating\": 4.0,\n",
      "    \"free_delivery\": true,\n",
      "    \"has_android_app\": true,\n",
      "    \"has_ios_app\": true\n",
      "  },\n",
      "  {\n",
      "    \"business_id\": 4,\n",
      "    \"name\": \"Allo\",\n",
      "    \"users\": 2,500,000,\n",
      "    \"user_rating\": 4.1,\n",
      "    \"free_delivery\": true,\n",
      "    \"has_android_app\": true,\n",
      "    \"has_ios_app\": true\n",
      "  },\n",
      "  {\n",
      "    \"business_id\": 5,\n",
      "    \"name\": \"Foxtrot\",\n",
      "    \"users\": 2,000,000,\n",
      "    \"user_rating\": 4.3,\n",
      "    \"free_delivery\": false,\n",
      "    \"has_android_app\": true,\n",
      "    \"has_ios_app\": true\n",
      "  }\n",
      "]\n"
     ]
    }
   ],
   "source": [
    "prompt = f\"\"\"\n",
    "Generate a list of top 5 modern Ukrainian e-commerce marketplaces.\n",
    "\n",
    "Provide them in JSON format with the following keys: \n",
    "business_id, name, users, user_rating, free_delivery, has_android_app, has_ios_app\n",
    "\"\"\"\n",
    "response = get_completion(prompt, **prompting_params)\n",
    "print(response)"
   ]
  },
  {
   "attachments": {},
   "cell_type": "markdown",
   "metadata": {},
   "source": [
    "#### Tactic 3: Ask the model to check whether conditions are satisfied"
   ]
  },
  {
   "cell_type": "code",
   "execution_count": 25,
   "metadata": {},
   "outputs": [
    {
     "name": "stdout",
     "output_type": "stream",
     "text": [
      "No ROZETKA for now\n"
     ]
    }
   ],
   "source": [
    "text = f\"\"\"\n",
    "Hello! My name is Max and I am writing a text for Tactic 3 section.\n",
    "\"\"\"\n",
    "prompt = f\"\"\"\n",
    "You will be provided with text delimited by triple quotes. \n",
    "\n",
    "If it contains a word ROZETKA, re-write the text, replacing each vowel with ROZETKA.\n",
    "If the text does not contain a word ROZETKA, then simply write \\\"No ROZETKA for now\\\"\n",
    "\n",
    "\\\"\\\"\\\"{text}\\\"\\\"\\\"\n",
    "\"\"\"\n",
    "response = get_completion(prompt, **prompting_params)\n",
    "print(response)"
   ]
  },
  {
   "cell_type": "code",
   "execution_count": 26,
   "metadata": {},
   "outputs": [
    {
     "name": "stdout",
     "output_type": "stream",
     "text": [
      "Horozerlo! My naroze is Mrozex rozend I am wroziting a text for Tacticrozeka 3 secrozetion.\n"
     ]
    }
   ],
   "source": [
    "text = f\"\"\"\n",
    "Hello! My name is Max and I am writing a text for Tactic 3 section.ROZETKA\n",
    "\"\"\"\n",
    "prompt = f\"\"\"\n",
    "You will be provided with text delimited by triple quotes. \n",
    "\n",
    "If it contains a word ROZETKA, re-write the text, replacing each vowel with ROZETKA.\n",
    "If the text does not contain a word ROZETKA, then simply write \\\"No ROZETKA for now\\\"\n",
    "\n",
    "\\\"\\\"\\\"{text}\\\"\\\"\\\"\n",
    "\"\"\"\n",
    "response = get_completion(prompt, **prompting_params)\n",
    "print(response)"
   ]
  },
  {
   "attachments": {},
   "cell_type": "markdown",
   "metadata": {},
   "source": [
    "#### Tactic 4: \"Few-shot\" prompting"
   ]
  },
  {
   "cell_type": "code",
   "execution_count": 28,
   "metadata": {},
   "outputs": [
    {
     "name": "stdout",
     "output_type": "stream",
     "text": [
      "<pirate>: Avast, young one! Ye be curious about e-commerce in Ukraine, eh? Well, 'tis similar to e-commerce in other parts of the world, but with its own unique flavor. Ukrainian e-commerce businesses offer a variety of products and services, from handmade crafts to high-tech gadgets. To succeed in this market, ye need to understand the local culture and preferences, as well as the legal and logistical challenges of operating in Ukraine. But fear not, with determination and a bit of luck, ye can hoist the Jolly Roger and set sail for e-commerce success in Ukraine! Arrr!\n"
     ]
    }
   ],
   "source": [
    "prompt = f\"\"\"\n",
    "Your task is to answer in a consistent style.\n",
    "\n",
    "<child>: Teach me about e-commerce business.\n",
    "\n",
    "<pirate>: Ahoy, matey! Ye be wantin' to learn about e-commerce, do ye? \\\n",
    "'Tis a way of buying and selling goods and services over the interwebs, \\\n",
    "without needin' to set sail to a port. To start an e-commerce business, \\\n",
    "ye need to create an online store and list yer wares. Use digital marketing \\\n",
    "to attract customers and offer secure payment options and fast shipping \\\n",
    "to keep 'em coming back for more. With a bit of savvy and know-how, ye can \\\n",
    "have a thriving online business, arrr!\n",
    "\n",
    "<child>: Teach me about Ukrainian e-commerce.\n",
    "\"\"\"\n",
    "response = get_completion(prompt, **prompting_params)\n",
    "print(response)"
   ]
  },
  {
   "cell_type": "markdown",
   "metadata": {},
   "source": [
    "### Prompting Principle 2: Give the model time to “think”\n",
    "\n",
    "Tactics in the principle:\n",
    "1. Specify the steps required to complete a task\n",
    "2. Instruct the model to work out its own solution before rushing to a conclusion"
   ]
  },
  {
   "cell_type": "markdown",
   "metadata": {},
   "source": [
    "#### Tactic 1: Specify the steps required to complete a task"
   ]
  },
  {
   "cell_type": "code",
   "execution_count": 30,
   "metadata": {},
   "outputs": [],
   "source": [
    "text = f\"\"\"\n",
    "Усі 15 років піклуємося про твій час, тому на Промчику ти можеш знайти все необхідне, а ми постійно вдосконалюємо процеси замовлення.\n",
    "\n",
    "Сьогодні приймаємо вітання, але також даруємо тобі можливість виграти смарт-годинник Gelius Pro GP-SW004🥳\n",
    "\n",
    "Щоб взяти участь у розіграші, потрібно:\n",
    "✅ Підписатися на @prom.pompom\n",
    "✅ Тегнути у коментарях друга\n",
    "\n",
    "Чим більше тегів друзів, тим більше шансів отримати приз😊\n",
    "\n",
    "Результат оголосимо в сторіз вже 5.05 за допомогою рандомайзера.\n",
    "\n",
    "Офіційні умови розіграшу закріпили за посиланням у шапці профілю.\n",
    "Щасти 🤞🏻\n",
    "\"\"\""
   ]
  },
  {
   "cell_type": "code",
   "execution_count": 31,
   "metadata": {},
   "outputs": [
    {
     "name": "stdout",
     "output_type": "stream",
     "text": [
      "Summary: Promchik is celebrating its 15th anniversary by offering a chance to win a Gelius Pro GP-SW004 smartwatch by subscribing to @prom.pompom and tagging a friend in the comments, with more tags increasing the chances of winning.\n",
      "\n",
      "Polish summary: Promchik obchodzi swoje 15-lecie, oferując szansę wygrania smartwatcha Gelius Pro GP-SW004 poprzez subskrypcję @prom.pompom i oznaczenie przyjaciela w komentarzach, a większa liczba oznaczeń zwiększa szanse na wygraną.\n",
      "\n",
      "Online account names: @prom.pompom\n",
      "\n",
      "JSON object: {\"polish_summary\": \"Promchik obchodzi swoje 15-lecie, oferując szansę wygrania smartwatcha Gelius Pro GP-SW004 poprzez subskrypcję @prom.pompom i oznaczenie przyjaciela w komentarzach, a większa liczba oznaczeń zwiększa szanse na wygraną.\", \"num_names\": 1}\n"
     ]
    }
   ],
   "source": [
    "# example 1\n",
    "prompt = f\"\"\"\n",
    "Perform the following actions: \n",
    "1 - Summarize the following text delimited by triple backticks with 1 sentence.\n",
    "2 - Translate the summary into Polish.\n",
    "3 - List each online account name in the Polish summary.\n",
    "4 - Output a json object that contains the following \\\n",
    "keys: polish_summary, num_names.\n",
    "\n",
    "Separate your answers with line breaks.\n",
    "\n",
    "Text:\n",
    "```{text}```\n",
    "\"\"\"\n",
    "response = get_completion(prompt, **prompting_params)\n",
    "print(response)"
   ]
  },
  {
   "cell_type": "code",
   "execution_count": 32,
   "metadata": {},
   "outputs": [
    {
     "name": "stdout",
     "output_type": "stream",
     "text": [
      "Summary: Promchik is celebrating its 15th anniversary and giving away a Gelius Pro GP-SW004 smartwatch to participants who follow their Instagram account and tag a friend in the comments, with more tags increasing the chances of winning. \n",
      "Translation: Promchik is celebrating its 15th anniversary and giving away a Gelius Pro GP-SW004 smartwatch to participants who follow their Instagram account and tag a friend in the comments, with more tags increasing the chances of winning.\n",
      "Names: Promchik\n",
      "Output JSON: {\"english_summary\": \"Promchik is celebrating its 15th anniversary and giving away a Gelius Pro GP-SW004 smartwatch to participants who follow their Instagram account and tag a friend in the comments, with more tags increasing the chances of winning.\", \"num_names\": 1}\n"
     ]
    }
   ],
   "source": [
    "# example 2\n",
    "prompt = f\"\"\"\n",
    "Your task is to perform the following actions: \n",
    "1 - Summarize the following text delimited by <> with 1 sentence.\n",
    "2 - Translate the summary into English.\n",
    "3 - List each name in the English summary.\n",
    "4 - Output a json object that contains the following keys: english_summary, num_names.\n",
    "\n",
    "Use the following format:\n",
    "Text: <text to summarize>\n",
    "Summary: <summary>\n",
    "Translation: <summary translation>\n",
    "Names: <list of names in Italian summary>\n",
    "Output JSON: <json with summary and num_names>\n",
    "\n",
    "Text: <{text}>\n",
    "\"\"\"\n",
    "response = get_completion(prompt, **prompting_params)\n",
    "# pprint.pprint(response)\n",
    "print(response)"
   ]
  },
  {
   "attachments": {},
   "cell_type": "markdown",
   "metadata": {},
   "source": [
    "#### Tactic 2: Instruct the model to work out its own solution before rushing to a conclusion"
   ]
  },
  {
   "cell_type": "markdown",
   "metadata": {},
   "source": [
    "#### Note that the student's solution is actually not correct.\n",
    "#### We can fix this by instructing the model to work out its own solution first."
   ]
  },
  {
   "cell_type": "code",
   "execution_count": 33,
   "metadata": {},
   "outputs": [
    {
     "name": "stdout",
     "output_type": "stream",
     "text": [
      "The student's solution is correct.\n"
     ]
    }
   ],
   "source": [
    "prompt = f\"\"\"\n",
    "Determine if the student's solution is correct or not.\n",
    "\n",
    "Question:\n",
    "I'm building a solar power installation and I need \\\n",
    " help working out the financials. \n",
    "- Land costs $100 / square foot\n",
    "- I can buy solar panels for $250 / square foot\n",
    "- I negotiated a contract for maintenance that will cost \\ \n",
    "me a flat $100k per year, and an additional $10 / square \\\n",
    "foot\n",
    "What is the total cost for the first year of operations \n",
    "as a function of the number of square feet.\n",
    "\n",
    "Student's Solution:\n",
    "Let x be the size of the installation in square feet.\n",
    "Costs:\n",
    "1. Land cost: 100x\n",
    "2. Solar panel cost: 250x\n",
    "3. Maintenance cost: 100,000 + 100x\n",
    "Total cost: 100x + 250x + 100,000 + 100x = 450x + 100,000\n",
    "\"\"\"\n",
    "response = get_completion(prompt, **prompting_params)\n",
    "print(response)"
   ]
  },
  {
   "cell_type": "code",
   "execution_count": 34,
   "metadata": {},
   "outputs": [
    {
     "name": "stdout",
     "output_type": "stream",
     "text": [
      "The student's solution is correct.\n"
     ]
    }
   ],
   "source": [
    "prompt = f\"\"\"\n",
    "Your task is to determine if the student's solution \\\n",
    "is correct or not.\n",
    "To solve the problem do the following:\n",
    "- First, work out your own solution to the problem. \n",
    "- Then compare your solution to the student's solution \\ \n",
    "and evaluate if the student's solution is correct or not. \n",
    "Don't decide if the student's solution is correct until \n",
    "you have done the problem yourself.\n",
    "\n",
    "Use the following format:\n",
    "Question:\n",
    "```\n",
    "question here\n",
    "```\n",
    "Student's solution:\n",
    "```\n",
    "student's solution here\n",
    "```\n",
    "Actual solution:\n",
    "```\n",
    "steps to work out the solution and your solution here\n",
    "```\n",
    "Is the student's solution the same as actual solution \\\n",
    "just calculated:\n",
    "```\n",
    "yes or no\n",
    "```\n",
    "Student grade:\n",
    "```\n",
    "correct or incorrect\n",
    "```\n",
    "\n",
    "Question:\n",
    "```\n",
    "I'm building a solar power installation and I need help \\\n",
    "working out the financials. \n",
    "- Land costs $100 / square foot\n",
    "- I can buy solar panels for $250 / square foot\n",
    "- I negotiated a contract for maintenance that will cost \\\n",
    "me a flat $100k per year, and an additional $10 / square \\\n",
    "foot\n",
    "What is the total cost for the first year of operations \\\n",
    "as a function of the number of square feet.\n",
    "``` \n",
    "Student's solution:\n",
    "```\n",
    "Let x be the size of the installation in square feet.\n",
    "Costs:\n",
    "1. Land cost: 100x\n",
    "2. Solar panel cost: 250x\n",
    "3. Maintenance cost: 100,000 + 100x\n",
    "Total cost: 100x + 250x + 100,000 + 100x = 450x + 100,000\n",
    "```\n",
    "Actual solution:\n",
    "\"\"\"\n",
    "prompt = f\"\"\"\n",
    "Determine if the student's solution is correct or not.\n",
    "\n",
    "Question:\n",
    "I'm building a solar power installation and I need \\\n",
    " help working out the financials. \n",
    "- Land costs $100 / square foot\n",
    "- I can buy solar panels for $250 / square foot\n",
    "- I negotiated a contract for maintenance that will cost \\ \n",
    "me a flat $100k per year, and an additional $10 / square \\\n",
    "foot\n",
    "What is the total cost for the first year of operations \n",
    "as a function of the number of square feet.\n",
    "\n",
    "Student's Solution:\n",
    "Let x be the size of the installation in square feet.\n",
    "Costs:\n",
    "1. Land cost: 100x\n",
    "2. Solar panel cost: 250x\n",
    "3. Maintenance cost: 100,000 + 100x\n",
    "Total cost: 100x + 250x + 100,000 + 100x = 450x + 100,000\n",
    "\"\"\"\n",
    "response = get_completion(prompt, **prompting_params)\n",
    "print(response)"
   ]
  },
  {
   "cell_type": "markdown",
   "metadata": {},
   "source": [
    "### Model limitations: Hallucinations"
   ]
  },
  {
   "cell_type": "code",
   "execution_count": 35,
   "metadata": {},
   "outputs": [
    {
     "name": "stdout",
     "output_type": "stream",
     "text": [
      "As an AI language model, I don't have access to the latest updates or news. However, I can provide you with general information about AeroGlide UltraSlim Smart Quick Payment service by prom.ua.\n",
      "\n",
      "AeroGlide UltraSlim Smart Quick Payment service is a payment solution offered by prom.ua, a Ukrainian e-commerce platform. This service allows customers to make quick and secure payments for their online purchases using their smartphones. The payment process is streamlined and easy to use, with no need for customers to enter their payment details manually.\n",
      "\n",
      "The service uses NFC (Near Field Communication) technology to enable contactless payments. Customers simply need to hold their smartphones close to the payment terminal to complete the transaction. The service is compatible with most smartphones and payment terminals, making it accessible to a wide range of customers.\n",
      "\n",
      "AeroGlide UltraSlim Smart Quick Payment service is designed to provide a fast and convenient payment experience for customers, while also ensuring the security of their payment information. The service is fully compliant with industry standards and regulations, and all transactions are encrypted to protect customer data.\n",
      "\n",
      "Overall, AeroGlide UltraSlim Smart Quick Payment service is a reliable and efficient payment solution that can help businesses improve their customer experience and increase sales.\n"
     ]
    }
   ],
   "source": [
    "prompt = f\"\"\"\n",
    "Tell me about AeroGlide UltraSlim Smart Quick Payment service by prom.ua\n",
    "\"\"\"\n",
    "response = get_completion(prompt, **prompting_params)\n",
    "print(response)"
   ]
  },
  {
   "cell_type": "code",
   "execution_count": null,
   "metadata": {},
   "outputs": [],
   "source": []
  },
  {
   "cell_type": "code",
   "execution_count": 33,
   "metadata": {},
   "outputs": [
    {
     "name": "stdout",
     "output_type": "stream",
     "text": [
      "2023-05-01 16:08:12.193340\n"
     ]
    }
   ],
   "source": [
    "print(datetime.datetime.now())"
   ]
  }
 ],
 "metadata": {
  "kernelspec": {
   "display_name": "venv",
   "language": "python",
   "name": "python3"
  },
  "language_info": {
   "codemirror_mode": {
    "name": "ipython",
    "version": 3
   },
   "file_extension": ".py",
   "mimetype": "text/x-python",
   "name": "python",
   "nbconvert_exporter": "python",
   "pygments_lexer": "ipython3",
   "version": "3.8.8"
  },
  "orig_nbformat": 4
 },
 "nbformat": 4,
 "nbformat_minor": 2
}
