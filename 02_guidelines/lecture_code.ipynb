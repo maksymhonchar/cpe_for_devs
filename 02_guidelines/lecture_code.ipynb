{
 "cells": [
  {
   "attachments": {},
   "cell_type": "markdown",
   "metadata": {},
   "source": [
    "# Setup environment"
   ]
  },
  {
   "cell_type": "code",
   "execution_count": 1,
   "metadata": {},
   "outputs": [],
   "source": [
    "import datetime\n",
    "from dotenv import load_dotenv, find_dotenv\n",
    "import os\n",
    "from typing import List, Dict, Any\n",
    "import pprint"
   ]
  },
  {
   "cell_type": "code",
   "execution_count": 2,
   "metadata": {},
   "outputs": [],
   "source": [
    "# https://pypi.org/project/openai/\n",
    "import openai\n",
    "from openai.openai_object import OpenAIObject"
   ]
  },
  {
   "cell_type": "code",
   "execution_count": 3,
   "metadata": {},
   "outputs": [],
   "source": [
    "_ = load_dotenv(find_dotenv())\n",
    "\n",
    "openai.api_key = os.getenv('OPENAI_API_KEY', 'MISSING_OPENAI_API_KEY')"
   ]
  },
  {
   "attachments": {},
   "cell_type": "markdown",
   "metadata": {},
   "source": [
    "# Prompt LLM"
   ]
  },
  {
   "attachments": {},
   "cell_type": "markdown",
   "metadata": {},
   "source": [
    "## Create helpers"
   ]
  },
  {
   "cell_type": "code",
   "execution_count": 4,
   "metadata": {},
   "outputs": [],
   "source": [
    "def get_completion(prompt: str, model: str, temperature: float, n_completions: int) -> str:\n",
    "    messages: List[Dict[str, Any]] = [\n",
    "        {\n",
    "            \"role\": \"user\",\n",
    "            \"content\": prompt\n",
    "        }\n",
    "    ]\n",
    "    try:\n",
    "        response: OpenAIObject = openai.ChatCompletion.create(\n",
    "            messages=messages,\n",
    "            model=model,\n",
    "            temperature=temperature,\n",
    "            n=n_completions\n",
    "        ) \n",
    "    except Exception as e:\n",
    "        return f\"Error: {e}\"\n",
    "\n",
    "    if not response.choices:\n",
    "        return \"Error: No completions returned\"\n",
    "\n",
    "    return response.choices[0].message.content"
   ]
  },
  {
   "attachments": {},
   "cell_type": "markdown",
   "metadata": {},
   "source": [
    "## Set prompting params"
   ]
  },
  {
   "cell_type": "code",
   "execution_count": 5,
   "metadata": {},
   "outputs": [],
   "source": [
    "# https://platform.openai.com/docs/models/model-endpoint-compatibility\n",
    "completion_model = 'gpt-3.5-turbo'"
   ]
  },
  {
   "cell_type": "code",
   "execution_count": 6,
   "metadata": {},
   "outputs": [],
   "source": [
    "# https://platform.openai.com/docs/api-reference/completions/create#completions/create-temperature\n",
    "temperature = 0.01"
   ]
  },
  {
   "cell_type": "code",
   "execution_count": 7,
   "metadata": {},
   "outputs": [],
   "source": [
    "# https://platform.openai.com/docs/api-reference/completions/create#completions/create-n\n",
    "n_completions = 1"
   ]
  },
  {
   "cell_type": "code",
   "execution_count": 8,
   "metadata": {},
   "outputs": [],
   "source": [
    "prompting_params: Dict[str, Any] = {\n",
    "    \"model\": completion_model,\n",
    "    \"temperature\": temperature,\n",
    "    \"n_completions\": n_completions\n",
    "}"
   ]
  },
  {
   "cell_type": "markdown",
   "metadata": {},
   "source": [
    "## Start prompting"
   ]
  },
  {
   "attachments": {},
   "cell_type": "markdown",
   "metadata": {},
   "source": [
    "### Prompting Principle 1: Write clear and specific instructions\n",
    "\n",
    "Tactics in the principle:\n",
    "1. Use delimiters to clearly indicate distinct parts of the input\n",
    "2. Ask for a structured output\n",
    "3. Ask the model to check whether conditions are satisfied\n",
    "4. \"Few-shot\" prompting"
   ]
  },
  {
   "attachments": {},
   "cell_type": "markdown",
   "metadata": {},
   "source": [
    "#### Tactic 1: Use delimiters to clearly indicate distinct parts of the input\n",
    "- Delimiters can be anything like: ```, \"\"\", < >, `<tag> </tag>`, `:`"
   ]
  },
  {
   "cell_type": "code",
   "execution_count": 9,
   "metadata": {},
   "outputs": [
    {
     "name": "stdout",
     "output_type": "stream",
     "text": [
      "('Prom.ua is a Ukrainian marketplace where entrepreneurs can create their own '\n",
      " 'online stores or list their products in a shared catalog, with over 100 '\n",
      " 'million products available for purchase and approximately 2 million daily '\n",
      " 'visitors, with popular categories including clothing, footwear, accessories, '\n",
      " 'home and garden products, beauty and health, and electronics, resulting in '\n",
      " 'an average of 1.5 million orders per month worth around 1.3 billion UAH.')\n"
     ]
    }
   ],
   "source": [
    "text = f\"\"\"\n",
    "Prom.ua — український маркетплейс, проєкт IT-компанії EVO.\n",
    "На його платформі підприємці[1] самостійно створюють інтернет-магазини і / або розміщують свої товари в загальному каталозі.\n",
    "Для покупців на Промі зібрано більше 100 мільйонів товарів.\n",
    "В 2018 році українці витратили на маркетплейсі 8,6 млрд грн — і ще 10,5 млрд грн на сайтах компаній, створених на базі Prom.ua[3].\n",
    "Щодня торговельний майданчик відвідує близько 2 млн користувачів.\n",
    "У ТОП-10 популярних категорій входять одяг, взуття, аксесуари, товари для дому та саду, краси та здоров'я, а також техніка й електроніка[4].\n",
    "Щомісяця на маркетплейсі покупці оформлюють у середньому 1,5 млн замовлень на суму близько 1,3 млрд грн[5].\n",
    "\"\"\"\n",
    "prompt = f\"\"\"\n",
    "Summarize the text delimited by triple backticks \\ \n",
    "into a single sentence.\n",
    "```{text}```\n",
    "\"\"\"\n",
    "response = get_completion(prompt, **prompting_params)\n",
    "pprint.pprint(response)"
   ]
  },
  {
   "attachments": {},
   "cell_type": "markdown",
   "metadata": {},
   "source": [
    "#### Tactic 2: Ask for a structured output\n",
    "- use JSON, HTML"
   ]
  },
  {
   "cell_type": "code",
   "execution_count": 10,
   "metadata": {},
   "outputs": [
    {
     "name": "stdout",
     "output_type": "stream",
     "text": [
      "('[\\n'\n",
      " '  {\\n'\n",
      " '    \"business_id\": 1,\\n'\n",
      " '    \"name\": \"Rozetka\",\\n'\n",
      " '    \"ceo\": \"Vladimir Kostevich\",\\n'\n",
      " '    \"users\": 10,000,000\\n'\n",
      " '  },\\n'\n",
      " '  {\\n'\n",
      " '    \"business_id\": 2,\\n'\n",
      " '    \"name\": \"Epicentr K\",\\n'\n",
      " '    \"ceo\": \"Vladimir Kostevich\",\\n'\n",
      " '    \"users\": 5,000,000\\n'\n",
      " '  },\\n'\n",
      " '  {\\n'\n",
      " '    \"business_id\": 3,\\n'\n",
      " '    \"name\": \"Allo\",\\n'\n",
      " '    \"ceo\": \"Vladimir Kostevich\",\\n'\n",
      " '    \"users\": 3,000,000\\n'\n",
      " '  },\\n'\n",
      " '  {\\n'\n",
      " '    \"business_id\": 4,\\n'\n",
      " '    \"name\": \"Foxtrot\",\\n'\n",
      " '    \"ceo\": \"Vladimir Kostevich\",\\n'\n",
      " '    \"users\": 2,000,000\\n'\n",
      " '  },\\n'\n",
      " '  {\\n'\n",
      " '    \"business_id\": 5,\\n'\n",
      " '    \"name\": \"Comfy\",\\n'\n",
      " '    \"ceo\": \"Vladimir Kostevich\",\\n'\n",
      " '    \"users\": 1,500,000\\n'\n",
      " '  }\\n'\n",
      " ']')\n"
     ]
    }
   ],
   "source": [
    "prompt = f\"\"\"\n",
    "Generate a list of top 5 Ukrainian e-commerce businesses working in 2018.\n",
    "\n",
    "Provide them in JSON format with the following keys: \n",
    "business_id, name, ceo, users.\n",
    "\"\"\"\n",
    "response = get_completion(prompt, **prompting_params)\n",
    "pprint.pprint(response)"
   ]
  },
  {
   "attachments": {},
   "cell_type": "markdown",
   "metadata": {},
   "source": [
    "#### Tactic 3: Ask the model to check whether conditions are satisfied"
   ]
  },
  {
   "cell_type": "code",
   "execution_count": 11,
   "metadata": {},
   "outputs": [
    {
     "name": "stdout",
     "output_type": "stream",
     "text": [
      "'No ROZETKA for now'\n"
     ]
    }
   ],
   "source": [
    "text = f\"\"\"\n",
    "Hello! My name is Max and I am writing a text for Tactic 3 section.\n",
    "\"\"\"\n",
    "prompt = f\"\"\"\n",
    "You will be provided with text delimited by triple quotes. \n",
    "\n",
    "If it contains a word ROZETKA, re-write the text, replacing each vowel with ROZETKA.\n",
    "If the text does not contain a word ROZETKA, then simply write \\\"No ROZETKA for now\\\"\n",
    "\n",
    "\\\"\\\"\\\"{text}\\\"\\\"\\\"\n",
    "\"\"\"\n",
    "response = get_completion(prompt, **prompting_params)\n",
    "pprint.pprint(response)"
   ]
  },
  {
   "cell_type": "code",
   "execution_count": 21,
   "metadata": {},
   "outputs": [
    {
     "name": "stdout",
     "output_type": "stream",
     "text": [
      "('HOROZETKOlROZETKA! My nROZETKAme ROZETKAis MROZETKAx ROZETKAand ROZETKAI '\n",
      " 'ROZETKAam writing ROZETKAa text for TROZETKActic 3 sectiROZETKAon.')\n"
     ]
    }
   ],
   "source": [
    "text = f\"\"\"\n",
    "Hello! My name is Max and I am writing a text for Tactic 3 section.ROZETKA\n",
    "\"\"\"\n",
    "prompt = f\"\"\"\n",
    "You will be provided with text delimited by triple quotes. \n",
    "\n",
    "If it contains a word ROZETKA, re-write the text, replacing each vowel with ROZETKA.\n",
    "If the text does not contain a word ROZETKA, then simply write \\\"No ROZETKA for now\\\"\n",
    "\n",
    "\\\"\\\"\\\"{text}\\\"\\\"\\\"\n",
    "\"\"\"\n",
    "response = get_completion(prompt, **prompting_params)\n",
    "pprint.pprint(response)"
   ]
  },
  {
   "attachments": {},
   "cell_type": "markdown",
   "metadata": {},
   "source": [
    "#### Tactic 4: \"Few-shot\" prompting"
   ]
  },
  {
   "cell_type": "code",
   "execution_count": 22,
   "metadata": {},
   "outputs": [
    {
     "name": "stdout",
     "output_type": "stream",
     "text": [
      "('<ceo>: Ukrainian e-commerce is a rapidly growing industry that has seen '\n",
      " 'significant growth in recent years. The country has a population of over 42 '\n",
      " 'million people, with a high percentage of internet users, making it an '\n",
      " 'attractive market for e-commerce businesses. Ukrainian e-commerce businesses '\n",
      " 'offer a wide range of products and services, including clothing, '\n",
      " 'electronics, and food delivery. To be successful in the Ukrainian e-commerce '\n",
      " 'market, businesses need to have a strong online presence, offer competitive '\n",
      " 'pricing, and provide excellent customer service. The Ukrainian government '\n",
      " 'has also implemented policies to support the growth of e-commerce, such as '\n",
      " 'reducing taxes and simplifying regulations. Overall, Ukrainian e-commerce '\n",
      " 'presents a great opportunity for businesses looking to expand their reach '\n",
      " 'and tap into a growing market.')\n"
     ]
    }
   ],
   "source": [
    "prompt = f\"\"\"\n",
    "Your task is to answer in a consistent style.\n",
    "\n",
    "<child>: Teach me about e-commerce business.\n",
    "\n",
    "<ceo>: E-commerce business is all about selling products or services \\\n",
    "online through a website or mobile app. To be successful, e-commerce \\\n",
    "businesses need to have a user-friendly website, competitive pricing, \\\n",
    "good marketing strategies, and excellent customer service. E-commerce \\\n",
    "has become a massive industry, with global sales surpassing $4.2 \\\n",
    "trillion in 2020. With clever and innovative tactics, some e-commerce \\\n",
    "businesses have found ways to stand out from the competition. Ultimately, \\\n",
    "e-commerce business is all about providing convenience and value to \\\n",
    "customers in the digital age.\n",
    "\n",
    "<child>: Teach me about Ukrainian e-commerce.\n",
    "\"\"\"\n",
    "response = get_completion(prompt, **prompting_params)\n",
    "pprint.pprint(response)"
   ]
  },
  {
   "cell_type": "markdown",
   "metadata": {},
   "source": [
    "### Prompting Principle 2: Give the model time to “think”\n",
    "\n",
    "Tactics in the principle:\n",
    "1. Specify the steps required to complete a task\n",
    "2. Instruct the model to work out its own solution before rushing to a conclusion"
   ]
  },
  {
   "cell_type": "markdown",
   "metadata": {},
   "source": [
    "#### Tactic 1: Specify the steps required to complete a task"
   ]
  },
  {
   "cell_type": "code",
   "execution_count": 24,
   "metadata": {},
   "outputs": [],
   "source": [
    "text = f\"\"\"\n",
    "Усі 15 років піклуємося про твій час, тому на Промчику ти можеш знайти все необхідне, а ми постійно вдосконалюємо процеси замовлення.\n",
    "\n",
    "Сьогодні приймаємо вітання, але також даруємо тобі можливість виграти смарт-годинник Gelius Pro GP-SW004🥳\n",
    "\n",
    "Щоб взяти участь у розіграші, потрібно:\n",
    "✅ Підписатися на @prom.pompom\n",
    "✅ Тегнути у коментарях друга\n",
    "\n",
    "Чим більше тегів друзів, тим більше шансів отримати приз😊\n",
    "\n",
    "Результат оголосимо в сторіз вже 5.05 за допомогою рандомайзера.\n",
    "\n",
    "Офіційні умови розіграшу закріпили за посиланням у шапці профілю.\n",
    "Щасти 🤞🏻\n",
    "\"\"\""
   ]
  },
  {
   "cell_type": "code",
   "execution_count": 28,
   "metadata": {},
   "outputs": [
    {
     "name": "stdout",
     "output_type": "stream",
     "text": [
      "1 - Ukrainian online store Promchik is celebrating its 15th anniversary by offering customers the chance to win a Gelius Pro GP-SW004 smartwatch by subscribing to their @prom.pompom account and tagging a friend in the comments section of their post.\n",
      "2 - Promchik, a Ukrainian online store, is celebrating its 15th anniversary by offering customers the chance to win a Gelius Pro GP-SW004 smartwatch by subscribing to their @prom.pompom account and tagging a friend in the comments section of their post.\n",
      "3 - @prom.pompom\n",
      "4 - {\n",
      "     \"english_summary\": \"Promchik, a Ukrainian online store, is celebrating its 15th anniversary by offering customers the chance to win a Gelius Pro GP-SW004 smartwatch by subscribing to their @prom.pompom account and tagging a friend in the comments section of their post.\",\n",
      "     \"num_names\": 1\n",
      "   }\n"
     ]
    }
   ],
   "source": [
    "# example 1\n",
    "prompt = f\"\"\"\n",
    "Perform the following actions: \n",
    "1 - Summarize the following text delimited by triple \\\n",
    "backticks with 1 sentence.\n",
    "2 - Translate the summary into English.\n",
    "3 - List each online account name in the English summary.\n",
    "4 - Output a json object that contains the following \\\n",
    "keys: english_summary, num_names.\n",
    "\n",
    "Separate your answers with line breaks.\n",
    "\n",
    "Text:\n",
    "```{text}```\n",
    "\"\"\"\n",
    "response = get_completion(prompt, **prompting_params)\n",
    "# pprint.pprint(response)\n",
    "print(response)"
   ]
  },
  {
   "cell_type": "code",
   "execution_count": 29,
   "metadata": {},
   "outputs": [
    {
     "name": "stdout",
     "output_type": "stream",
     "text": [
      "Summary: Promchik is celebrating its 15th anniversary and giving away a Gelius Pro GP-SW004 smartwatch to participants who follow and tag a friend on their Instagram page, with the winner being announced on May 5th through a randomizer. \n",
      "Translation: Promchik is celebrating its 15th anniversary and giving away a Gelius Pro GP-SW004 smartwatch to participants who follow and tag a friend on their Instagram page, with the winner being announced on May 5th through a randomizer.\n",
      "Names: Promchik\n",
      "Output JSON: {\"english_summary\": \"Promchik is celebrating its 15th anniversary and giving away a Gelius Pro GP-SW004 smartwatch to participants who follow and tag a friend on their Instagram page, with the winner being announced on May 5th through a randomizer.\", \"num_names\": 1}\n"
     ]
    }
   ],
   "source": [
    "# example 2\n",
    "prompt = f\"\"\"\n",
    "Your task is to perform the following actions: \n",
    "1 - Summarize the following text delimited by \n",
    "  <> with 1 sentence.\n",
    "2 - Translate the summary into English.\n",
    "3 - List each name in the English summary.\n",
    "4 - Output a json object that contains the \n",
    "  following keys: english_summary, num_names.\n",
    "\n",
    "Use the following format:\n",
    "Text: <text to summarize>\n",
    "Summary: <summary>\n",
    "Translation: <summary translation>\n",
    "Names: <list of names in Italian summary>\n",
    "Output JSON: <json with summary and num_names>\n",
    "\n",
    "Text: <{text}>\n",
    "\"\"\"\n",
    "response = get_completion(prompt, **prompting_params)\n",
    "# pprint.pprint(response)\n",
    "print(response)"
   ]
  },
  {
   "attachments": {},
   "cell_type": "markdown",
   "metadata": {},
   "source": [
    "#### Tactic 2: Instruct the model to work out its own solution before rushing to a conclusion"
   ]
  },
  {
   "cell_type": "markdown",
   "metadata": {},
   "source": [
    "#### Note that the student's solution is actually not correct.\n",
    "#### We can fix this by instructing the model to work out its own solution first."
   ]
  },
  {
   "cell_type": "code",
   "execution_count": 30,
   "metadata": {},
   "outputs": [
    {
     "name": "stdout",
     "output_type": "stream",
     "text": [
      "\"The student's solution is correct.\"\n"
     ]
    }
   ],
   "source": [
    "prompt = f\"\"\"\n",
    "Determine if the student's solution is correct or not.\n",
    "\n",
    "Question:\n",
    "I'm building a solar power installation and I need \\\n",
    " help working out the financials. \n",
    "- Land costs $100 / square foot\n",
    "- I can buy solar panels for $250 / square foot\n",
    "- I negotiated a contract for maintenance that will cost \\ \n",
    "me a flat $100k per year, and an additional $10 / square \\\n",
    "foot\n",
    "What is the total cost for the first year of operations \n",
    "as a function of the number of square feet.\n",
    "\n",
    "Student's Solution:\n",
    "Let x be the size of the installation in square feet.\n",
    "Costs:\n",
    "1. Land cost: 100x\n",
    "2. Solar panel cost: 250x\n",
    "3. Maintenance cost: 100,000 + 100x\n",
    "Total cost: 100x + 250x + 100,000 + 100x = 450x + 100,000\n",
    "\"\"\"\n",
    "response = get_completion(prompt, **prompting_params)\n",
    "pprint.pprint(response)"
   ]
  },
  {
   "cell_type": "code",
   "execution_count": 31,
   "metadata": {},
   "outputs": [
    {
     "name": "stdout",
     "output_type": "stream",
     "text": [
      "\"The student's solution is correct.\"\n"
     ]
    }
   ],
   "source": [
    "prompt = f\"\"\"\n",
    "Your task is to determine if the student's solution \\\n",
    "is correct or not.\n",
    "To solve the problem do the following:\n",
    "- First, work out your own solution to the problem. \n",
    "- Then compare your solution to the student's solution \\ \n",
    "and evaluate if the student's solution is correct or not. \n",
    "Don't decide if the student's solution is correct until \n",
    "you have done the problem yourself.\n",
    "\n",
    "Use the following format:\n",
    "Question:\n",
    "```\n",
    "question here\n",
    "```\n",
    "Student's solution:\n",
    "```\n",
    "student's solution here\n",
    "```\n",
    "Actual solution:\n",
    "```\n",
    "steps to work out the solution and your solution here\n",
    "```\n",
    "Is the student's solution the same as actual solution \\\n",
    "just calculated:\n",
    "```\n",
    "yes or no\n",
    "```\n",
    "Student grade:\n",
    "```\n",
    "correct or incorrect\n",
    "```\n",
    "\n",
    "Question:\n",
    "```\n",
    "I'm building a solar power installation and I need help \\\n",
    "working out the financials. \n",
    "- Land costs $100 / square foot\n",
    "- I can buy solar panels for $250 / square foot\n",
    "- I negotiated a contract for maintenance that will cost \\\n",
    "me a flat $100k per year, and an additional $10 / square \\\n",
    "foot\n",
    "What is the total cost for the first year of operations \\\n",
    "as a function of the number of square feet.\n",
    "``` \n",
    "Student's solution:\n",
    "```\n",
    "Let x be the size of the installation in square feet.\n",
    "Costs:\n",
    "1. Land cost: 100x\n",
    "2. Solar panel cost: 250x\n",
    "3. Maintenance cost: 100,000 + 100x\n",
    "Total cost: 100x + 250x + 100,000 + 100x = 450x + 100,000\n",
    "```\n",
    "Actual solution:\n",
    "\"\"\"\n",
    "prompt = f\"\"\"\n",
    "Determine if the student's solution is correct or not.\n",
    "\n",
    "Question:\n",
    "I'm building a solar power installation and I need \\\n",
    " help working out the financials. \n",
    "- Land costs $100 / square foot\n",
    "- I can buy solar panels for $250 / square foot\n",
    "- I negotiated a contract for maintenance that will cost \\ \n",
    "me a flat $100k per year, and an additional $10 / square \\\n",
    "foot\n",
    "What is the total cost for the first year of operations \n",
    "as a function of the number of square feet.\n",
    "\n",
    "Student's Solution:\n",
    "Let x be the size of the installation in square feet.\n",
    "Costs:\n",
    "1. Land cost: 100x\n",
    "2. Solar panel cost: 250x\n",
    "3. Maintenance cost: 100,000 + 100x\n",
    "Total cost: 100x + 250x + 100,000 + 100x = 450x + 100,000\n",
    "\"\"\"\n",
    "response = get_completion(prompt, **prompting_params)\n",
    "pprint.pprint(response)"
   ]
  },
  {
   "cell_type": "markdown",
   "metadata": {},
   "source": [
    "### Model limitations: Hallucinations"
   ]
  },
  {
   "cell_type": "code",
   "execution_count": 32,
   "metadata": {},
   "outputs": [
    {
     "name": "stdout",
     "output_type": "stream",
     "text": [
      "(\"As an AI language model, I don't have access to the latest information about \"\n",
      " 'AeroGlide UltraSlim Smart Quick Payment service by prom.ua. However, based '\n",
      " 'on my research, AeroGlide UltraSlim Smart Quick Payment service is a payment '\n",
      " 'solution offered by prom.ua, an e-commerce platform in Ukraine. This service '\n",
      " 'allows customers to make quick and secure payments using their mobile '\n",
      " 'devices. The UltraSlim Smart Quick Payment service is designed to be '\n",
      " 'user-friendly and convenient, allowing customers to complete transactions '\n",
      " 'with just a few taps on their smartphones. The service is also said to be '\n",
      " 'highly secure, with advanced encryption and fraud prevention measures in '\n",
      " 'place to protect customer data and prevent unauthorized access. Overall, '\n",
      " 'AeroGlide UltraSlim Smart Quick Payment service is a promising payment '\n",
      " 'solution that could help streamline the online shopping experience for '\n",
      " 'customers in Ukraine.')\n"
     ]
    }
   ],
   "source": [
    "prompt = f\"\"\"\n",
    "Tell me about AeroGlide UltraSlim Smart Quick Payment service by prom.ua\n",
    "\"\"\"\n",
    "response = get_completion(prompt, **prompting_params)\n",
    "pprint.pprint(response)"
   ]
  },
  {
   "cell_type": "code",
   "execution_count": null,
   "metadata": {},
   "outputs": [],
   "source": []
  },
  {
   "cell_type": "code",
   "execution_count": 33,
   "metadata": {},
   "outputs": [
    {
     "name": "stdout",
     "output_type": "stream",
     "text": [
      "2023-05-01 16:08:12.193340\n"
     ]
    }
   ],
   "source": [
    "print(datetime.datetime.now())"
   ]
  }
 ],
 "metadata": {
  "kernelspec": {
   "display_name": "venv",
   "language": "python",
   "name": "python3"
  },
  "language_info": {
   "codemirror_mode": {
    "name": "ipython",
    "version": 3
   },
   "file_extension": ".py",
   "mimetype": "text/x-python",
   "name": "python",
   "nbconvert_exporter": "python",
   "pygments_lexer": "ipython3",
   "version": "3.8.8"
  },
  "orig_nbformat": 4
 },
 "nbformat": 4,
 "nbformat_minor": 2
}
