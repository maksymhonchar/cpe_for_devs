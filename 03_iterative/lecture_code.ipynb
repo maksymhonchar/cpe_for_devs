{
 "cells": [
  {
   "attachments": {},
   "cell_type": "markdown",
   "metadata": {},
   "source": [
    "# Setup environment"
   ]
  },
  {
   "cell_type": "code",
   "execution_count": 1,
   "metadata": {},
   "outputs": [],
   "source": [
    "import datetime\n",
    "from dotenv import load_dotenv, find_dotenv\n",
    "import os\n",
    "from typing import List, Dict, Any\n",
    "import pprint"
   ]
  },
  {
   "cell_type": "code",
   "execution_count": 2,
   "metadata": {},
   "outputs": [],
   "source": [
    "from IPython.display import display, HTML"
   ]
  },
  {
   "cell_type": "code",
   "execution_count": 3,
   "metadata": {},
   "outputs": [],
   "source": [
    "# https://pypi.org/project/openai/\n",
    "import openai\n",
    "from openai.openai_object import OpenAIObject"
   ]
  },
  {
   "cell_type": "code",
   "execution_count": 4,
   "metadata": {},
   "outputs": [],
   "source": [
    "_ = load_dotenv(find_dotenv())\n",
    "\n",
    "openai.api_key = os.getenv('OPENAI_API_KEY', 'MISSING_OPENAI_API_KEY')"
   ]
  },
  {
   "attachments": {},
   "cell_type": "markdown",
   "metadata": {},
   "source": [
    "# Prompt LLM"
   ]
  },
  {
   "attachments": {},
   "cell_type": "markdown",
   "metadata": {},
   "source": [
    "## Create helpers"
   ]
  },
  {
   "cell_type": "code",
   "execution_count": 5,
   "metadata": {},
   "outputs": [],
   "source": [
    "def get_completion(prompt: str, model: str, temperature: float, n_completions: int) -> str:\n",
    "    messages: List[Dict[str, Any]] = [\n",
    "        {\n",
    "            \"role\": \"user\",\n",
    "            \"content\": prompt\n",
    "        }\n",
    "    ]\n",
    "    try:\n",
    "        response: OpenAIObject = openai.ChatCompletion.create(\n",
    "            messages=messages,\n",
    "            model=model,\n",
    "            temperature=temperature,\n",
    "            n=n_completions\n",
    "        ) \n",
    "    except Exception as e:\n",
    "        return f\"Error: {e}\"\n",
    "\n",
    "    if not response.choices:\n",
    "        return \"Error: No completions returned\"\n",
    "\n",
    "    return response.choices[0].message.content"
   ]
  },
  {
   "attachments": {},
   "cell_type": "markdown",
   "metadata": {},
   "source": [
    "## Set prompting params"
   ]
  },
  {
   "cell_type": "code",
   "execution_count": 6,
   "metadata": {},
   "outputs": [],
   "source": [
    "# https://platform.openai.com/docs/models/model-endpoint-compatibility\n",
    "completion_model = 'gpt-3.5-turbo'"
   ]
  },
  {
   "cell_type": "code",
   "execution_count": 7,
   "metadata": {},
   "outputs": [],
   "source": [
    "# https://platform.openai.com/docs/api-reference/completions/create#completions/create-temperature\n",
    "temperature = 0.01"
   ]
  },
  {
   "cell_type": "code",
   "execution_count": 8,
   "metadata": {},
   "outputs": [],
   "source": [
    "# https://platform.openai.com/docs/api-reference/completions/create#completions/create-n\n",
    "n_completions = 1"
   ]
  },
  {
   "cell_type": "code",
   "execution_count": 9,
   "metadata": {},
   "outputs": [],
   "source": [
    "prompting_params: Dict[str, Any] = {\n",
    "    \"model\": completion_model,\n",
    "    \"temperature\": temperature,\n",
    "    \"n_completions\": n_completions\n",
    "}"
   ]
  },
  {
   "cell_type": "markdown",
   "metadata": {},
   "source": [
    "## Start prompting"
   ]
  },
  {
   "attachments": {},
   "cell_type": "markdown",
   "metadata": {},
   "source": [
    "### Task: Generate a marketing product description from a product fact sheet\n",
    "\n",
    "source: https://prom.ua/ua/p1824783668-paverbankpowerbank-usb-yusbpoverbank.html"
   ]
  },
  {
   "cell_type": "code",
   "execution_count": 10,
   "metadata": {},
   "outputs": [],
   "source": [
    "fact_sheet = f\"\"\"\n",
    "OVERVIEW\n",
    "- Назва: Павербанк Powerbank 2 usb юсб Повербанк зі швидким заряджанням Power bank \\\n",
    "швидке заряджання Power bank для айфона\n",
    "- Підходить для резервного живлення роутера.\n",
    "- Оптимальний запас\n",
    "- Зовнішній акумулятор представлений у стильному варіанті з компактними габаритами для \\\n",
    "спрощення носіння девайса із собою. Попри це, всередині є достатній для багатьох завдань \\\n",
    "запас енергії — 10 000 мА·год. Маючи під рукою такий ресурс, ви завжди зможете відновити \\\n",
    "енерговтрати не тільки свого смартфона та інших ґаджетів, але й допомогти в цьому оточенні — \\\n",
    "наявність роз'ємів дає змогу зробити це.\n",
    "- Тонкий корпус\n",
    "- Варто звернути увагу, що зовнішній акумулятор виготовлений у гранично тонкому форм-факторі. \\\n",
    "Корпус має акуратні обтічні грані та лаконічну зовнішність. \\\n",
    "Пластикова оболонка оберігає батарею від пошкоджень і надає їй вишуканого вигляду. \\\n",
    "Полірована поверхня не схильна до появи подряпин, завдяки чому паувербанк завжди зберігає ідеальний вигляд.\n",
    "- Два роз'єми\n",
    "- Панель слотів пристрою має 2 порти, які допоможуть приєднати будь-яку техніку для відновлення \\\n",
    "її ресурсів. Вихідні порти формату USB поєднуються з вхідним MicroUSB.\n",
    "- Підходить для потужних телефонів\n",
    "- Якщо ви щасливий володар передових моделей смартфонів, зверніть увагу на представлений повербанк. \\\n",
    "Його заряду вистачить, щоб заповнити енергію в таких телефонах мінімум двічі. Так вас ніколи раптово \\\n",
    "не застане батарея з нульовим зарядом і брак зв'язку через брак енергії в техніці.\n",
    "\n",
    "BOX SET\n",
    "- Акумулятор 1 шт.\n",
    "- Кабель USB/microUSB 1 шт.\n",
    "- Паковання 1 шт.\n",
    "\n",
    "SPECS\n",
    "- Ємність 10000 mAh\n",
    "- USB 2 шт.\n",
    "- наявність LED-індикатора\n",
    "- Тип акумулятора Li-Ion\n",
    "\n",
    "MATERIALS\n",
    "- Матеріал пластик\n",
    "\n",
    "COUNTRY OF ORIGIN\n",
    "- Китай\n",
    "\n",
    "MISCELANEOUS\n",
    "- УЦЕНКА  (наявні дрібні подряпини)\n",
    "\"\"\""
   ]
  },
  {
   "cell_type": "code",
   "execution_count": 11,
   "metadata": {},
   "outputs": [
    {
     "name": "stdout",
     "output_type": "stream",
     "text": [
      "('Introducing the Powerbank 2 USB - the ultimate solution for all your '\n",
      " 'charging needs! This external battery pack is designed to be compact and '\n",
      " 'stylish, making it easy to carry with you wherever you go. With a capacity '\n",
      " 'of 10,000 mAh, it has enough power to charge your smartphone and other '\n",
      " 'gadgets multiple times. \\n'\n",
      " '\\n'\n",
      " 'The Powerbank 2 USB is made with a slim and sleek design, featuring smooth '\n",
      " 'edges and a polished surface that is resistant to scratches. The plastic '\n",
      " 'casing protects the battery from damage and gives it an elegant look. \\n'\n",
      " '\\n'\n",
      " 'Equipped with two USB ports, this power bank can charge multiple devices '\n",
      " 'simultaneously. It also comes with a USB/microUSB cable for added '\n",
      " 'convenience. The LED indicator lets you know when the battery is fully '\n",
      " 'charged and ready to use. \\n'\n",
      " '\\n'\n",
      " 'This power bank is perfect for those with high-end smartphones, as it can '\n",
      " \"charge them at least twice before needing to be recharged itself. It's also \"\n",
      " 'great for providing backup power to your router. \\n'\n",
      " '\\n'\n",
      " 'The Powerbank 2 USB is made with high-quality Li-Ion batteries and is '\n",
      " 'manufactured in China. Please note that this product is discounted due to '\n",
      " 'minor scratches on the surface. \\n'\n",
      " '\\n'\n",
      " 'Order your Powerbank 2 USB today and never run out of power again!')\n"
     ]
    }
   ],
   "source": [
    "prompt = f\"\"\"\n",
    "Your task is to help a marketing team create a \n",
    "description for a retail website of a product based \n",
    "on a technical fact sheet.\n",
    "\n",
    "Write a product description based on the information \n",
    "provided in the technical specifications delimited by \n",
    "triple backticks.\n",
    "\n",
    "Technical specifications: ```{fact_sheet}```\n",
    "\"\"\"\n",
    "response = get_completion(prompt, **prompting_params)\n",
    "pprint.pprint(response)"
   ]
  },
  {
   "cell_type": "markdown",
   "metadata": {},
   "source": [
    "### Issue 1: The text is too long"
   ]
  },
  {
   "cell_type": "code",
   "execution_count": 12,
   "metadata": {},
   "outputs": [
    {
     "name": "stdout",
     "output_type": "stream",
     "text": [
      "('Introducing the Powerbank 2 USB, the perfect backup power source for your '\n",
      " 'devices. With a sleek and compact design, this external battery packs a '\n",
      " 'powerful punch with a capacity of 10,000 mAh. Equipped with two USB ports '\n",
      " 'and a microUSB input, it can charge multiple devices at once. Plus, its thin '\n",
      " \"and polished plastic casing ensures it stays scratch-free. Don't let a dead \"\n",
      " 'battery ruin your day, grab the Powerbank 2 USB and stay connected.')\n"
     ]
    }
   ],
   "source": [
    "prompt = f\"\"\"\n",
    "Your task is to help a marketing team create a \n",
    "description for a retail website of a product based \n",
    "on a technical fact sheet.\n",
    "\n",
    "Write a product description based on the information \n",
    "provided in the technical specifications delimited by \n",
    "triple backticks.\n",
    "\n",
    "Use at most 75 words.\n",
    "Use at most 4 sentences.\n",
    "\n",
    "Technical specifications: ```{fact_sheet}```\n",
    "\"\"\"\n",
    "response = get_completion(prompt, **prompting_params)\n",
    "pprint.pprint(response)"
   ]
  },
  {
   "cell_type": "code",
   "execution_count": 13,
   "metadata": {},
   "outputs": [
    {
     "name": "stdout",
     "output_type": "stream",
     "text": [
      "words_cnt=75 sentences_cnt=6\n"
     ]
    }
   ],
   "source": [
    "words_sep = ' '\n",
    "words_cnt = len(response.split(words_sep))\n",
    "\n",
    "sentences_sep = '.'\n",
    "sentences_cnt = len(response.split(sentences_sep))\n",
    "\n",
    "print(f\"{words_cnt=} {sentences_cnt=}\")"
   ]
  },
  {
   "cell_type": "markdown",
   "metadata": {},
   "source": [
    "### Issue 2: The text is too formal"
   ]
  },
  {
   "cell_type": "code",
   "execution_count": 14,
   "metadata": {},
   "outputs": [
    {
     "name": "stdout",
     "output_type": "stream",
     "text": [
      "('Introducing the Powerbank 2 USB - the perfect backup power source for your '\n",
      " 'devices! With a sleek and compact design, this external battery packs a '\n",
      " 'powerful punch with a capacity of 10,000 mAh. Plus, it comes with two USB '\n",
      " 'ports and a microUSB input, making it easy to charge multiple devices at '\n",
      " \"once. And don't worry about scratches - the polished plastic exterior keeps \"\n",
      " 'it looking brand new. Get yours today and never run out of battery again!')\n"
     ]
    }
   ],
   "source": [
    "prompt = f\"\"\"\n",
    "Your task is to help a marketing team create a \n",
    "description for a retail website of a product based \n",
    "on a technical fact sheet.\n",
    "\n",
    "Write a product description based on the information \n",
    "provided in the technical specifications delimited by \n",
    "triple backticks.\n",
    "\n",
    "Use at most 75 words.\n",
    "Use at most 4 sentences.\n",
    "\n",
    "Use informal language only.\n",
    "\n",
    "Technical specifications: ```{fact_sheet}```\n",
    "\"\"\"\n",
    "response = get_completion(prompt, **prompting_params)\n",
    "pprint.pprint(response)"
   ]
  },
  {
   "cell_type": "code",
   "execution_count": 15,
   "metadata": {},
   "outputs": [
    {
     "name": "stdout",
     "output_type": "stream",
     "text": [
      "words_cnt=78 sentences_cnt=4\n"
     ]
    }
   ],
   "source": [
    "words_sep = ' '\n",
    "words_cnt = len(response.split(words_sep))\n",
    "\n",
    "sentences_sep = '.'\n",
    "sentences_cnt = len(response.split(sentences_sep))\n",
    "\n",
    "print(f\"{words_cnt=} {sentences_cnt=}\")"
   ]
  },
  {
   "attachments": {},
   "cell_type": "markdown",
   "metadata": {},
   "source": [
    "### The text needs some form of data table"
   ]
  },
  {
   "cell_type": "code",
   "execution_count": 16,
   "metadata": {},
   "outputs": [
    {
     "name": "stdout",
     "output_type": "stream",
     "text": [
      "('<div>\\n'\n",
      " '  <h2>Powerbank 2 USB with Fast Charging</h2>\\n'\n",
      " '  <p>Looking for a reliable power bank that can keep up with your busy '\n",
      " 'lifestyle? Look no further than the Powerbank 2 USB with Fast Charging. This '\n",
      " 'external battery pack is designed to be both stylish and compact, making it '\n",
      " \"easy to take with you wherever you go. But don't let its small size fool you \"\n",
      " '- with a capacity of 10,000 mAh, this power bank has plenty of energy to '\n",
      " 'spare. And with two USB ports, you can easily charge multiple devices at '\n",
      " 'once.</p>\\n'\n",
      " '  <p>But what really sets the Powerbank 2 USB apart is its fast charging '\n",
      " \"capabilities. Whether you're using it to power your smartphone, tablet, or \"\n",
      " 'even your router, this power bank can deliver a quick and efficient charge '\n",
      " 'that will get you back up and running in no time. So why wait? Order your '\n",
      " 'Powerbank 2 USB with Fast Charging today and experience the convenience of '\n",
      " 'portable power for yourself!</p>\\n'\n",
      " '  <table>\\n'\n",
      " '    <tr>\\n'\n",
      " '      <th>Capacity</th>\\n'\n",
      " '      <td>10,000 mAh</td>\\n'\n",
      " '    </tr>\\n'\n",
      " '    <tr>\\n'\n",
      " '      <th>USB Ports</th>\\n'\n",
      " '      <td>2</td>\\n'\n",
      " '    </tr>\\n'\n",
      " '    <tr>\\n'\n",
      " '      <th>LED Indicator</th>\\n'\n",
      " '      <td>Yes</td>\\n'\n",
      " '    </tr>\\n'\n",
      " '    <tr>\\n'\n",
      " '      <th>Battery Type</th>\\n'\n",
      " '      <td>Li-Ion</td>\\n'\n",
      " '    </tr>\\n'\n",
      " '    <tr>\\n'\n",
      " '      <th>Materials</th>\\n'\n",
      " '      <td>Plastic</td>\\n'\n",
      " '    </tr>\\n'\n",
      " '    <tr>\\n'\n",
      " '      <th>Country of Origin</th>\\n'\n",
      " '      <td>China</td>\\n'\n",
      " '    </tr>\\n'\n",
      " '    <tr>\\n'\n",
      " '      <th>Miscellaneous</th>\\n'\n",
      " '      <td>Scratch and dent sale (minor scratches)</td>\\n'\n",
      " '    </tr>\\n'\n",
      " '  </table>\\n'\n",
      " '</div>')\n"
     ]
    }
   ],
   "source": [
    "prompt = f\"\"\"\n",
    "Your task is to help a marketing team create a \n",
    "description for a retail website of a product based \n",
    "on a technical fact sheet.\n",
    "\n",
    "Write a product description based on the information \n",
    "provided in the technical specifications delimited by \n",
    "triple backticks.\n",
    "\n",
    "Use at most 150 words.\n",
    "Use at most 5 sentences.\n",
    "\n",
    "Use informal 50% informal, 50% formal language.\n",
    "\n",
    "At the end of the description, include a table with specifications.\n",
    "\n",
    "Format everything as HTML that can be used in a website. \n",
    "Place the description in a <div> element.\n",
    "\n",
    "Technical specifications: ```{fact_sheet}```\n",
    "\"\"\"\n",
    "response = get_completion(prompt, **prompting_params)\n",
    "pprint.pprint(response)"
   ]
  },
  {
   "cell_type": "code",
   "execution_count": 17,
   "metadata": {},
   "outputs": [
    {
     "data": {
      "text/html": [
       "<div>\n",
       "  <h2>Powerbank 2 USB with Fast Charging</h2>\n",
       "  <p>Looking for a reliable power bank that can keep up with your busy lifestyle? Look no further than the Powerbank 2 USB with Fast Charging. This external battery pack is designed to be both stylish and compact, making it easy to take with you wherever you go. But don't let its small size fool you - with a capacity of 10,000 mAh, this power bank has plenty of energy to spare. And with two USB ports, you can easily charge multiple devices at once.</p>\n",
       "  <p>But what really sets the Powerbank 2 USB apart is its fast charging capabilities. Whether you're using it to power your smartphone, tablet, or even your router, this power bank can deliver a quick and efficient charge that will get you back up and running in no time. So why wait? Order your Powerbank 2 USB with Fast Charging today and experience the convenience of portable power for yourself!</p>\n",
       "  <table>\n",
       "    <tr>\n",
       "      <th>Capacity</th>\n",
       "      <td>10,000 mAh</td>\n",
       "    </tr>\n",
       "    <tr>\n",
       "      <th>USB Ports</th>\n",
       "      <td>2</td>\n",
       "    </tr>\n",
       "    <tr>\n",
       "      <th>LED Indicator</th>\n",
       "      <td>Yes</td>\n",
       "    </tr>\n",
       "    <tr>\n",
       "      <th>Battery Type</th>\n",
       "      <td>Li-Ion</td>\n",
       "    </tr>\n",
       "    <tr>\n",
       "      <th>Materials</th>\n",
       "      <td>Plastic</td>\n",
       "    </tr>\n",
       "    <tr>\n",
       "      <th>Country of Origin</th>\n",
       "      <td>China</td>\n",
       "    </tr>\n",
       "    <tr>\n",
       "      <th>Miscellaneous</th>\n",
       "      <td>Scratch and dent sale (minor scratches)</td>\n",
       "    </tr>\n",
       "  </table>\n",
       "</div>"
      ],
      "text/plain": [
       "<IPython.core.display.HTML object>"
      ]
     },
     "metadata": {},
     "output_type": "display_data"
    }
   ],
   "source": [
    "display(HTML(response))"
   ]
  },
  {
   "cell_type": "code",
   "execution_count": null,
   "metadata": {},
   "outputs": [],
   "source": []
  },
  {
   "cell_type": "code",
   "execution_count": 18,
   "metadata": {},
   "outputs": [
    {
     "name": "stdout",
     "output_type": "stream",
     "text": [
      "2023-05-01 19:33:36.453285\n"
     ]
    }
   ],
   "source": [
    "print(datetime.datetime.now())"
   ]
  }
 ],
 "metadata": {
  "kernelspec": {
   "display_name": "venv",
   "language": "python",
   "name": "python3"
  },
  "language_info": {
   "codemirror_mode": {
    "name": "ipython",
    "version": 3
   },
   "file_extension": ".py",
   "mimetype": "text/x-python",
   "name": "python",
   "nbconvert_exporter": "python",
   "pygments_lexer": "ipython3",
   "version": "3.8.8"
  },
  "orig_nbformat": 4
 },
 "nbformat": 4,
 "nbformat_minor": 2
}
